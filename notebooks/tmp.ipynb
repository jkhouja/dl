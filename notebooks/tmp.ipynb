{
 "cells": [
  {
   "cell_type": "code",
   "execution_count": 133,
   "id": "af1a3f6f-051d-498f-a3b4-9bc0249c3e16",
   "metadata": {},
   "outputs": [],
   "source": [
    "import numpy as np\n",
    "import torch\n",
    "from torch import nn\n",
    "#from torch.nn.parameter import Parameter\n"
   ]
  },
  {
   "cell_type": "code",
   "execution_count": 134,
   "id": "a58b0f39-816d-470e-a180-d5d58f5b49e2",
   "metadata": {},
   "outputs": [
    {
     "data": {
      "text/plain": [
       "False"
      ]
     },
     "execution_count": 134,
     "metadata": {},
     "output_type": "execute_result"
    }
   ],
   "source": [
    "device = torch.device('cpu') # 'cuda:0'\n",
    "torch.cuda.is_available()\n",
    "# t.cuda.is_bf16_supported()"
   ]
  },
  {
   "cell_type": "code",
   "execution_count": 135,
   "id": "85a3fa51-c896-44eb-98ea-0d02256951bd",
   "metadata": {},
   "outputs": [
    {
     "data": {
      "text/plain": [
       "tensor([[7., 7., 7., 7., 7.],\n",
       "        [7., 7., 7., 7., 7.],\n",
       "        [7., 7., 7., 7., 7.]])"
      ]
     },
     "execution_count": 135,
     "metadata": {},
     "output_type": "execute_result"
    }
   ],
   "source": [
    "# Tensors\n",
    "a = np.array([[1,2,3],[4,5,6]])\n",
    "x = torch.Tensor(a)\n",
    "\n",
    "x = torch.ones((3,5), dtype=torch.float32)\n",
    "x = torch.zeros((3,5), dtype=torch.float32)\n",
    "x = torch.full((3,5), 7, dtype=torch.float32, device=device)\n",
    "x\n",
    "\n",
    "# x[0,0].item()"
   ]
  },
  {
   "cell_type": "code",
   "execution_count": 137,
   "id": "93dc0583-a731-4b7c-8fcb-bace56e5d565",
   "metadata": {},
   "outputs": [
    {
     "data": {
      "text/plain": [
       "3"
      ]
     },
     "execution_count": 137,
     "metadata": {},
     "output_type": "execute_result"
    }
   ],
   "source": [
    "# Properties\n",
    "x.requires_grad\n",
    "x.dtype\n",
    "x.device\n",
    "x.shape\n",
    "x.nbytes\n",
    "\n",
    "len(torch.arange(5*6).view(3,10)) #size of 1st dimension"
   ]
  },
  {
   "cell_type": "code",
   "execution_count": 128,
   "id": "66208470-1cf8-452f-83aa-c86d2b03f579",
   "metadata": {},
   "outputs": [
    {
     "data": {
      "text/plain": [
       "tensor(0.7990)"
      ]
     },
     "execution_count": 128,
     "metadata": {},
     "output_type": "execute_result"
    }
   ],
   "source": [
    "# Generate random data\n",
    "seed = 1322\n",
    "g = t.Generator().manual_seed(seed)\n",
    "\n",
    "# Normal distribution\n",
    "t.normal(mean=.5, std=1, size=(3,10), generator=g, device=device)\n",
    "\n",
    "# Random [0->20[ (say for token or label indices)\n",
    "t.randint(0,20, (5,5))\n",
    "t.randint(0,2, (5,5))\n",
    "\n",
    "# Create 1 hot encoding from label indices\n",
    "classes = 20 # 0-> 19\n",
    "examples = 100\n",
    "y = t.randint(low=0,high=classes, size=(examples,), generator=g, device=device)\n",
    "one_hot = t.zeros((examples, classes))\n",
    "one_hot[t.arange(examples), y] = 1\n",
    "\n",
    "\n",
    "# Random 1/0 mask with 80% 1s\n",
    "tot = 50 * 60\n",
    "(t.rand((50,60), dtype=t.float64, device=device) > .2).sum() / tot"
   ]
  },
  {
   "cell_type": "code",
   "execution_count": 140,
   "id": "15d50102-aa94-4482-8d73-ab94ce5e2621",
   "metadata": {},
   "outputs": [
    {
     "data": {
      "text/plain": [
       "True"
      ]
     },
     "execution_count": 140,
     "metadata": {},
     "output_type": "execute_result"
    }
   ],
   "source": [
    "# Parameters (tensors that can be added to nn.modules - differentiable by default)\n",
    "p = nn.parameter.Parameter(data=torch.rand((3,5)))\n",
    "p.requires_grad"
   ]
  },
  {
   "cell_type": "code",
   "execution_count": 142,
   "id": "efc988fe-2f80-4647-b61c-ebddc81be947",
   "metadata": {},
   "outputs": [
    {
     "data": {
      "text/plain": [
       "torch.float16"
      ]
     },
     "execution_count": 142,
     "metadata": {},
     "output_type": "execute_result"
    }
   ],
   "source": [
    "torch.float16"
   ]
  },
  {
   "cell_type": "code",
   "execution_count": null,
   "id": "bc7f8807-e83d-4f07-af13-a897a9192e10",
   "metadata": {},
   "outputs": [],
   "source": []
  }
 ],
 "metadata": {
  "kernelspec": {
   "display_name": "Python 3 (ipykernel)",
   "language": "python",
   "name": "python3"
  },
  "language_info": {
   "codemirror_mode": {
    "name": "ipython",
    "version": 3
   },
   "file_extension": ".py",
   "mimetype": "text/x-python",
   "name": "python",
   "nbconvert_exporter": "python",
   "pygments_lexer": "ipython3",
   "version": "3.11.5"
  }
 },
 "nbformat": 4,
 "nbformat_minor": 5
}
